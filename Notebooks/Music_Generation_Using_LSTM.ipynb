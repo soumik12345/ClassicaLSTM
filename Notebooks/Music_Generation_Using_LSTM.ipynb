{
  "nbformat": 4,
  "nbformat_minor": 0,
  "metadata": {
    "colab": {
      "name": "Music Generation Using LSTM.ipynb",
      "version": "0.3.2",
      "provenance": [],
      "collapsed_sections": []
    },
    "kernelspec": {
      "name": "python3",
      "display_name": "Python 3"
    }
  },
  "cells": [
    {
      "cell_type": "code",
      "metadata": {
        "id": "-VFe_QU8EEeP",
        "colab_type": "code",
        "colab": {
          "base_uri": "https://localhost:8080/",
          "height": 443
        },
        "outputId": "dd50a6a4-53a5-4bf9-b0c7-d9ce2fcce3e5"
      },
      "source": [
        "!mkdir kaggle\n",
        "!mkdir ~/.kaggle/\n",
        "import json\n",
        "token = {\"username\":\"soumikrakshit\",\"key\":\"fb0154dc3acb523cb50eb34ff1407a55\"}\n",
        "with open('/content/kaggle/kaggle.json', 'w') as file:\n",
        "    json.dump(token, file)\n",
        "!cp /content/kaggle/kaggle.json ~/.kaggle/kaggle.json\n",
        "!chmod 600 /root/.kaggle/kaggle.json\n",
        "!kaggle datasets download -d soumikrakshit/classical-music-midi\n",
        "!unzip classical-music-midi\n",
        "!mkdir dataset\n",
        "!pip install music21"
      ],
      "execution_count": 1,
      "outputs": [
        {
          "output_type": "stream",
          "text": [
            "Downloading classical-music-midi.zip to /content\n",
            "\r  0% 0.00/2.24M [00:00<?, ?B/s]\n",
            "\r100% 2.24M/2.24M [00:00<00:00, 74.7MB/s]\n",
            "Archive:  classical-music-midi.zip\n",
            "  inflating: schubert.zip            \n",
            "  inflating: mozart.zip              \n",
            "  inflating: albeniz.zip             \n",
            "  inflating: mendelssohn.zip         \n",
            "  inflating: grieg.zip               \n",
            "  inflating: debussy.zip             \n",
            "  inflating: chopin.zip              \n",
            "  inflating: muss.zip                \n",
            "  inflating: brahms.zip              \n",
            "  inflating: borodin.zip             \n",
            "  inflating: liszt.zip               \n",
            "  inflating: haydn.zip               \n",
            "  inflating: tschai.zip              \n",
            "  inflating: schumann.zip            \n",
            "  inflating: granados.zip            \n",
            "  inflating: burgm.zip               \n",
            "  inflating: beeth.zip               \n",
            "  inflating: balakir.zip             \n",
            "  inflating: bach.zip                \n",
            "Requirement already satisfied: music21 in /usr/local/lib/python3.6/dist-packages (5.5.0)\n"
          ],
          "name": "stdout"
        }
      ]
    },
    {
      "cell_type": "code",
      "metadata": {
        "id": "kR0v1SJ5EwlI",
        "colab_type": "code",
        "colab": {}
      },
      "source": [
        "import numpy as np\n",
        "from glob import glob\n",
        "from tqdm import tqdm\n",
        "from zipfile import ZipFile\n",
        "from music21 import converter, instrument, note, chord"
      ],
      "execution_count": 0,
      "outputs": []
    },
    {
      "cell_type": "code",
      "metadata": {
        "id": "f1BSDvFFFlT4",
        "colab_type": "code",
        "colab": {}
      },
      "source": [
        "for file in glob('./*.zip'):\n",
        "    with ZipFile(file, 'r') as zipObj:\n",
        "        zipObj.extractall('dataset')"
      ],
      "execution_count": 0,
      "outputs": []
    },
    {
      "cell_type": "code",
      "metadata": {
        "id": "IhqWiU4hF_CB",
        "colab_type": "code",
        "colab": {
          "base_uri": "https://localhost:8080/",
          "height": 34
        },
        "outputId": "ba03219e-ddfc-4183-ee5b-1e1016d00837"
      },
      "source": [
        "notes = []\n",
        "for file in tqdm(glob('./dataset/*.mid')):\n",
        "    midi = converter.parse(file)\n",
        "    notes_to_parse = None\n",
        "    parts = instrument.partitionByInstrument(midi)\n",
        "    if parts: # file has instrument parts\n",
        "        notes_to_parse = parts.parts[0].recurse()\n",
        "    else: # file has notes in a flat structure\n",
        "        notes_to_parse = midi.flat.notes\n",
        "    for element in notes_to_parse:\n",
        "        if isinstance(element, note.Note):\n",
        "            notes.append(str(element.pitch))\n",
        "        elif isinstance(element, chord.Chord):\n",
        "            notes.append('.'.join(str(n) for n in element.normalOrder))"
      ],
      "execution_count": 4,
      "outputs": [
        {
          "output_type": "stream",
          "text": [
            "100%|██████████| 292/292 [37:46<00:00,  5.74s/it]\n"
          ],
          "name": "stderr"
        }
      ]
    },
    {
      "cell_type": "code",
      "metadata": {
        "id": "2XRxZmaQpaL3",
        "colab_type": "code",
        "colab": {}
      },
      "source": [
        "notes = np.array(notes)"
      ],
      "execution_count": 0,
      "outputs": []
    },
    {
      "cell_type": "code",
      "metadata": {
        "id": "7-JAp-U_2Cek",
        "colab_type": "code",
        "colab": {
          "base_uri": "https://localhost:8080/",
          "height": 34
        },
        "outputId": "f5064c43-cf76-4804-e851-45729a245f8f"
      },
      "source": [
        "notes"
      ],
      "execution_count": 8,
      "outputs": [
        {
          "output_type": "execute_result",
          "data": {
            "text/plain": [
              "array(['C4', '3.8', 'C4', ..., 'B-3', 'G3', 'E-2'], dtype='<U10')"
            ]
          },
          "metadata": {
            "tags": []
          },
          "execution_count": 8
        }
      ]
    },
    {
      "cell_type": "code",
      "metadata": {
        "id": "Yl5RWchy2UAU",
        "colab_type": "code",
        "colab": {}
      },
      "source": [
        "np.save('notes.np', notes)"
      ],
      "execution_count": 0,
      "outputs": []
    },
    {
      "cell_type": "code",
      "metadata": {
        "id": "WnoVCPpH2da8",
        "colab_type": "code",
        "colab": {}
      },
      "source": [
        ""
      ],
      "execution_count": 0,
      "outputs": []
    }
  ]
}