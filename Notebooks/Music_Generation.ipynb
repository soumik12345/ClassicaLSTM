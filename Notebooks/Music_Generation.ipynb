{
  "nbformat": 4,
  "nbformat_minor": 0,
  "metadata": {
    "colab": {
      "name": "Music Generation.ipynb",
      "version": "0.3.2",
      "provenance": [],
      "collapsed_sections": []
    },
    "kernelspec": {
      "name": "python3",
      "display_name": "Python 3"
    },
    "accelerator": "GPU"
  },
  "cells": [
    {
      "cell_type": "code",
      "metadata": {
        "id": "2FL5wdze4iLr",
        "colab_type": "code",
        "outputId": "4a054c1f-6362-4377-8e95-1ef2577d66f1",
        "colab": {
          "base_uri": "https://localhost:8080/",
          "height": 118
        }
      },
      "source": [
        "!git clone https://github.com/soumik12345/ClassicaLSTM/"
      ],
      "execution_count": 0,
      "outputs": [
        {
          "output_type": "stream",
          "text": [
            "Cloning into 'ClassicaLSTM'...\n",
            "remote: Enumerating objects: 10, done.\u001b[K\n",
            "remote: Counting objects:  10% (1/10)   \u001b[K\rremote: Counting objects:  20% (2/10)   \u001b[K\rremote: Counting objects:  30% (3/10)   \u001b[K\rremote: Counting objects:  40% (4/10)   \u001b[K\rremote: Counting objects:  50% (5/10)   \u001b[K\rremote: Counting objects:  60% (6/10)   \u001b[K\rremote: Counting objects:  70% (7/10)   \u001b[K\rremote: Counting objects:  80% (8/10)   \u001b[K\rremote: Counting objects:  90% (9/10)   \u001b[K\rremote: Counting objects: 100% (10/10)   \u001b[K\rremote: Counting objects: 100% (10/10), done.\u001b[K\n",
            "remote: Compressing objects:  10% (1/10)   \u001b[K\rremote: Compressing objects:  20% (2/10)   \u001b[K\rremote: Compressing objects:  30% (3/10)   \u001b[K\rremote: Compressing objects:  40% (4/10)   \u001b[K\rremote: Compressing objects:  50% (5/10)   \u001b[K\rremote: Compressing objects:  60% (6/10)   \u001b[K\rremote: Compressing objects:  70% (7/10)   \u001b[K\rremote: Compressing objects:  80% (8/10)   \u001b[K\rremote: Compressing objects:  90% (9/10)   \u001b[K\rremote: Compressing objects: 100% (10/10)   \u001b[K\rremote: Compressing objects: 100% (10/10), done.\u001b[K\n",
            "Unpacking objects:  10% (1/10)   \rUnpacking objects:  20% (2/10)   \rUnpacking objects:  30% (3/10)   \rUnpacking objects:  40% (4/10)   \rUnpacking objects:  50% (5/10)   \rUnpacking objects:  60% (6/10)   \rremote: Total 10 (delta 1), reused 9 (delta 0), pack-reused 0\u001b[K\n",
            "Unpacking objects:  70% (7/10)   \rUnpacking objects:  80% (8/10)   \rUnpacking objects:  90% (9/10)   \rUnpacking objects: 100% (10/10)   \rUnpacking objects: 100% (10/10), done.\n"
          ],
          "name": "stdout"
        }
      ]
    },
    {
      "cell_type": "code",
      "metadata": {
        "id": "CLuHnDdB5PE0",
        "colab_type": "code",
        "outputId": "e5d3430f-96ae-4b2c-d0b7-a3455d6487c7",
        "colab": {
          "base_uri": "https://localhost:8080/",
          "height": 34
        }
      },
      "source": [
        "import numpy as np\n",
        "from tqdm import tqdm\n",
        "import matplotlib.pyplot as plt\n",
        "from music21 import instrument, note, stream, chord\n",
        "from tensorflow.keras.utils import to_categorical\n",
        "from tensorflow.keras.models import Sequential\n",
        "from tensorflow.keras.layers import Dense, Dropout, CuDNNLSTM\n",
        "from tensorflow.keras.callbacks import ModelCheckpoint\n",
        "from keras.utils.vis_utils import model_to_dot\n",
        "from IPython.display import SVG"
      ],
      "execution_count": 0,
      "outputs": [
        {
          "output_type": "stream",
          "text": [
            "Using TensorFlow backend.\n"
          ],
          "name": "stderr"
        }
      ]
    },
    {
      "cell_type": "code",
      "metadata": {
        "id": "Wq5zcmJ8EKDE",
        "colab_type": "code",
        "outputId": "f1d3c676-f530-4c2e-eb36-f32b7c901c5f",
        "colab": {
          "base_uri": "https://localhost:8080/",
          "height": 121
        }
      },
      "source": [
        "from google.colab import drive\n",
        "drive.mount('/content/gdrive')"
      ],
      "execution_count": 0,
      "outputs": [
        {
          "output_type": "stream",
          "text": [
            "Go to this URL in a browser: https://accounts.google.com/o/oauth2/auth?client_id=947318989803-6bn6qk8qdgf4n4g3pfee6491hc0brc4i.apps.googleusercontent.com&redirect_uri=urn%3Aietf%3Awg%3Aoauth%3A2.0%3Aoob&scope=email%20https%3A%2F%2Fwww.googleapis.com%2Fauth%2Fdocs.test%20https%3A%2F%2Fwww.googleapis.com%2Fauth%2Fdrive%20https%3A%2F%2Fwww.googleapis.com%2Fauth%2Fdrive.photos.readonly%20https%3A%2F%2Fwww.googleapis.com%2Fauth%2Fpeopleapi.readonly&response_type=code\n",
            "\n",
            "Enter your authorization code:\n",
            "··········\n",
            "Mounted at /content/gdrive\n"
          ],
          "name": "stdout"
        }
      ]
    },
    {
      "cell_type": "code",
      "metadata": {
        "id": "hgged21S7A8c",
        "colab_type": "code",
        "outputId": "805da1df-71bc-47ce-d865-e6a79382f125",
        "colab": {
          "base_uri": "https://localhost:8080/",
          "height": 34
        }
      },
      "source": [
        "notes = np.load('ClassicaLSTM/notes.np.npy')\n",
        "notes"
      ],
      "execution_count": 0,
      "outputs": [
        {
          "output_type": "execute_result",
          "data": {
            "text/plain": [
              "array(['C4', '3.8', 'C4', ..., 'B-3', 'G3', 'E-2'], dtype='<U10')"
            ]
          },
          "metadata": {
            "tags": []
          },
          "execution_count": 4
        }
      ]
    },
    {
      "cell_type": "code",
      "metadata": {
        "id": "fITmMGw-7GZZ",
        "colab_type": "code",
        "outputId": "2e07dd48-94d8-4e63-8e0c-6158ca5c2b8e",
        "colab": {
          "base_uri": "https://localhost:8080/",
          "height": 34
        }
      },
      "source": [
        "n_vocab = len(set(notes))\n",
        "print(n_vocab)"
      ],
      "execution_count": 0,
      "outputs": [
        {
          "output_type": "stream",
          "text": [
            "482\n"
          ],
          "name": "stdout"
        }
      ]
    },
    {
      "cell_type": "code",
      "metadata": {
        "id": "IUj-xRzR7Plz",
        "colab_type": "code",
        "colab": {}
      },
      "source": [
        "pitchnames = sorted(set(item for item in notes))\n",
        "note_to_int = dict((note, number) for number, note in enumerate(pitchnames))"
      ],
      "execution_count": 0,
      "outputs": []
    },
    {
      "cell_type": "code",
      "metadata": {
        "id": "Od3IZyMk7XjA",
        "colab_type": "code",
        "outputId": "0eb438a2-19c0-4e34-d57d-92e35992558e",
        "colab": {
          "base_uri": "https://localhost:8080/",
          "height": 34
        }
      },
      "source": [
        "sequence_length, input_sequence, output_sequence = 100, [], []\n",
        "for i in tqdm(range(0, len(notes) - sequence_length, 1)):\n",
        "        sequence_in = notes[i : i + sequence_length]\n",
        "        sequence_out = notes[i + sequence_length]\n",
        "        input_sequence.append([note_to_int[char] for char in sequence_in])\n",
        "        output_sequence.append(note_to_int[sequence_out])"
      ],
      "execution_count": 0,
      "outputs": [
        {
          "output_type": "stream",
          "text": [
            "100%|██████████| 515657/515657 [00:20<00:00, 25309.68it/s]\n"
          ],
          "name": "stderr"
        }
      ]
    },
    {
      "cell_type": "code",
      "metadata": {
        "id": "qadCAu397oih",
        "colab_type": "code",
        "outputId": "03b58ca3-1cd4-4b6f-d0d1-2531a224dd52",
        "colab": {
          "base_uri": "https://localhost:8080/",
          "height": 34
        }
      },
      "source": [
        "n_patterns = len(input_sequence)\n",
        "print(n_patterns)"
      ],
      "execution_count": 0,
      "outputs": [
        {
          "output_type": "stream",
          "text": [
            "515657\n"
          ],
          "name": "stdout"
        }
      ]
    },
    {
      "cell_type": "code",
      "metadata": {
        "id": "DmFgDKLk7xGe",
        "colab_type": "code",
        "outputId": "31e5b639-938c-409d-d6e5-8029f1dd30fc",
        "colab": {
          "base_uri": "https://localhost:8080/",
          "height": 34
        }
      },
      "source": [
        "normalized_input = np.reshape(input_sequence, (n_patterns, sequence_length, 1)) / float(n_vocab)\n",
        "encoded_output = to_categorical(output_sequence)\n",
        "normalized_input.shape, encoded_output.shape"
      ],
      "execution_count": 0,
      "outputs": [
        {
          "output_type": "execute_result",
          "data": {
            "text/plain": [
              "((515657, 100, 1), (515657, 482))"
            ]
          },
          "metadata": {
            "tags": []
          },
          "execution_count": 9
        }
      ]
    },
    {
      "cell_type": "code",
      "metadata": {
        "id": "74Koowbd7_5s",
        "colab_type": "code",
        "colab": {}
      },
      "source": [
        "def rnn(sequence_length, n_vocab):\n",
        "    model = Sequential([\n",
        "        CuDNNLSTM(512, input_shape = (sequence_length, 1), return_sequences = True),\n",
        "        Dropout(0.3),\n",
        "        CuDNNLSTM(512, return_sequences = True),\n",
        "        Dropout(0.3),\n",
        "        CuDNNLSTM(512),\n",
        "        Dense(256),\n",
        "        Dropout(0.3),\n",
        "        Dense(n_vocab, activation = 'softmax')\n",
        "    ])\n",
        "    model.compile(loss = 'sparse_categorical_crossentropy', optimizer = 'rmsprop')\n",
        "    return model"
      ],
      "execution_count": 0,
      "outputs": []
    },
    {
      "cell_type": "code",
      "metadata": {
        "id": "skeRrq129IQn",
        "colab_type": "code",
        "outputId": "75dbc726-fd3a-4ec5-ad0c-6daaf8013020",
        "colab": {
          "base_uri": "https://localhost:8080/",
          "height": 524
        }
      },
      "source": [
        "model = rnn(sequence_length, n_vocab)\n",
        "model.summary()"
      ],
      "execution_count": 0,
      "outputs": [
        {
          "output_type": "stream",
          "text": [
            "WARNING:tensorflow:From /usr/local/lib/python3.6/dist-packages/tensorflow/python/ops/resource_variable_ops.py:435: colocate_with (from tensorflow.python.framework.ops) is deprecated and will be removed in a future version.\n",
            "Instructions for updating:\n",
            "Colocations handled automatically by placer.\n",
            "WARNING:tensorflow:From /usr/local/lib/python3.6/dist-packages/tensorflow/python/keras/layers/core.py:143: calling dropout (from tensorflow.python.ops.nn_ops) with keep_prob is deprecated and will be removed in a future version.\n",
            "Instructions for updating:\n",
            "Please use `rate` instead of `keep_prob`. Rate should be set to `rate = 1 - keep_prob`.\n",
            "_________________________________________________________________\n",
            "Layer (type)                 Output Shape              Param #   \n",
            "=================================================================\n",
            "cu_dnnlstm (CuDNNLSTM)       (None, 100, 512)          1054720   \n",
            "_________________________________________________________________\n",
            "dropout (Dropout)            (None, 100, 512)          0         \n",
            "_________________________________________________________________\n",
            "cu_dnnlstm_1 (CuDNNLSTM)     (None, 100, 512)          2101248   \n",
            "_________________________________________________________________\n",
            "dropout_1 (Dropout)          (None, 100, 512)          0         \n",
            "_________________________________________________________________\n",
            "cu_dnnlstm_2 (CuDNNLSTM)     (None, 512)               2101248   \n",
            "_________________________________________________________________\n",
            "dense (Dense)                (None, 256)               131328    \n",
            "_________________________________________________________________\n",
            "dropout_2 (Dropout)          (None, 256)               0         \n",
            "_________________________________________________________________\n",
            "dense_1 (Dense)              (None, 482)               123874    \n",
            "=================================================================\n",
            "Total params: 5,512,418\n",
            "Trainable params: 5,512,418\n",
            "Non-trainable params: 0\n",
            "_________________________________________________________________\n"
          ],
          "name": "stdout"
        }
      ]
    },
    {
      "cell_type": "code",
      "metadata": {
        "id": "JxTufa3F9UQI",
        "colab_type": "code",
        "outputId": "72bb123d-cda4-454e-c8dc-e4b107b299c0",
        "colab": {
          "base_uri": "https://localhost:8080/",
          "height": 966
        }
      },
      "source": [
        "SVG(model_to_dot(model, show_shapes = True, show_layer_names = True).create(prog = 'dot', format = 'svg'))"
      ],
      "execution_count": 0,
      "outputs": [
        {
          "output_type": "execute_result",
          "data": {
            "text/plain": [
              "<IPython.core.display.SVG object>"
            ],
            "image/svg+xml": "<svg height=\"709pt\" viewBox=\"0.00 0.00 377.00 709.00\" width=\"377pt\" xmlns=\"http://www.w3.org/2000/svg\" xmlns:xlink=\"http://www.w3.org/1999/xlink\">\n<g class=\"graph\" id=\"graph0\" transform=\"scale(1 1) rotate(0) translate(4 705)\">\n<title>G</title>\n<polygon fill=\"#ffffff\" points=\"-4,4 -4,-705 373,-705 373,4 -4,4\" stroke=\"transparent\"/>\n<!-- 140352870496968 -->\n<g class=\"node\" id=\"node1\">\n<title>140352870496968</title>\n<polygon fill=\"none\" points=\"7.5,-581.5 7.5,-627.5 361.5,-627.5 361.5,-581.5 7.5,-581.5\" stroke=\"#000000\"/>\n<text fill=\"#000000\" font-family=\"Times,serif\" font-size=\"14.00\" text-anchor=\"middle\" x=\"97\" y=\"-600.8\">cu_dnnlstm: CuDNNLSTM</text>\n<polyline fill=\"none\" points=\"186.5,-581.5 186.5,-627.5 \" stroke=\"#000000\"/>\n<text fill=\"#000000\" font-family=\"Times,serif\" font-size=\"14.00\" text-anchor=\"middle\" x=\"215.5\" y=\"-612.3\">input:</text>\n<polyline fill=\"none\" points=\"186.5,-604.5 244.5,-604.5 \" stroke=\"#000000\"/>\n<text fill=\"#000000\" font-family=\"Times,serif\" font-size=\"14.00\" text-anchor=\"middle\" x=\"215.5\" y=\"-589.3\">output:</text>\n<polyline fill=\"none\" points=\"244.5,-581.5 244.5,-627.5 \" stroke=\"#000000\"/>\n<text fill=\"#000000\" font-family=\"Times,serif\" font-size=\"14.00\" text-anchor=\"middle\" x=\"303\" y=\"-612.3\">(None, 100, 1)</text>\n<polyline fill=\"none\" points=\"244.5,-604.5 361.5,-604.5 \" stroke=\"#000000\"/>\n<text fill=\"#000000\" font-family=\"Times,serif\" font-size=\"14.00\" text-anchor=\"middle\" x=\"303\" y=\"-589.3\">(None, 100, 512)</text>\n</g>\n<!-- 140354001090264 -->\n<g class=\"node\" id=\"node2\">\n<title>140354001090264</title>\n<polygon fill=\"none\" points=\"37.5,-498.5 37.5,-544.5 331.5,-544.5 331.5,-498.5 37.5,-498.5\" stroke=\"#000000\"/>\n<text fill=\"#000000\" font-family=\"Times,serif\" font-size=\"14.00\" text-anchor=\"middle\" x=\"97\" y=\"-517.8\">dropout: Dropout</text>\n<polyline fill=\"none\" points=\"156.5,-498.5 156.5,-544.5 \" stroke=\"#000000\"/>\n<text fill=\"#000000\" font-family=\"Times,serif\" font-size=\"14.00\" text-anchor=\"middle\" x=\"185.5\" y=\"-529.3\">input:</text>\n<polyline fill=\"none\" points=\"156.5,-521.5 214.5,-521.5 \" stroke=\"#000000\"/>\n<text fill=\"#000000\" font-family=\"Times,serif\" font-size=\"14.00\" text-anchor=\"middle\" x=\"185.5\" y=\"-506.3\">output:</text>\n<polyline fill=\"none\" points=\"214.5,-498.5 214.5,-544.5 \" stroke=\"#000000\"/>\n<text fill=\"#000000\" font-family=\"Times,serif\" font-size=\"14.00\" text-anchor=\"middle\" x=\"273\" y=\"-529.3\">(None, 100, 512)</text>\n<polyline fill=\"none\" points=\"214.5,-521.5 331.5,-521.5 \" stroke=\"#000000\"/>\n<text fill=\"#000000\" font-family=\"Times,serif\" font-size=\"14.00\" text-anchor=\"middle\" x=\"273\" y=\"-506.3\">(None, 100, 512)</text>\n</g>\n<!-- 140352870496968&#45;&gt;140354001090264 -->\n<g class=\"edge\" id=\"edge2\">\n<title>140352870496968-&gt;140354001090264</title>\n<path d=\"M184.5,-581.3799C184.5,-573.1745 184.5,-563.7679 184.5,-554.8786\" fill=\"none\" stroke=\"#000000\"/>\n<polygon fill=\"#000000\" points=\"188.0001,-554.784 184.5,-544.784 181.0001,-554.784 188.0001,-554.784\" stroke=\"#000000\"/>\n</g>\n<!-- 140354191836944 -->\n<g class=\"node\" id=\"node3\">\n<title>140354191836944</title>\n<polygon fill=\"none\" points=\"0,-415.5 0,-461.5 369,-461.5 369,-415.5 0,-415.5\" stroke=\"#000000\"/>\n<text fill=\"#000000\" font-family=\"Times,serif\" font-size=\"14.00\" text-anchor=\"middle\" x=\"97\" y=\"-434.8\">cu_dnnlstm_1: CuDNNLSTM</text>\n<polyline fill=\"none\" points=\"194,-415.5 194,-461.5 \" stroke=\"#000000\"/>\n<text fill=\"#000000\" font-family=\"Times,serif\" font-size=\"14.00\" text-anchor=\"middle\" x=\"223\" y=\"-446.3\">input:</text>\n<polyline fill=\"none\" points=\"194,-438.5 252,-438.5 \" stroke=\"#000000\"/>\n<text fill=\"#000000\" font-family=\"Times,serif\" font-size=\"14.00\" text-anchor=\"middle\" x=\"223\" y=\"-423.3\">output:</text>\n<polyline fill=\"none\" points=\"252,-415.5 252,-461.5 \" stroke=\"#000000\"/>\n<text fill=\"#000000\" font-family=\"Times,serif\" font-size=\"14.00\" text-anchor=\"middle\" x=\"310.5\" y=\"-446.3\">(None, 100, 512)</text>\n<polyline fill=\"none\" points=\"252,-438.5 369,-438.5 \" stroke=\"#000000\"/>\n<text fill=\"#000000\" font-family=\"Times,serif\" font-size=\"14.00\" text-anchor=\"middle\" x=\"310.5\" y=\"-423.3\">(None, 100, 512)</text>\n</g>\n<!-- 140354001090264&#45;&gt;140354191836944 -->\n<g class=\"edge\" id=\"edge3\">\n<title>140354001090264-&gt;140354191836944</title>\n<path d=\"M184.5,-498.3799C184.5,-490.1745 184.5,-480.7679 184.5,-471.8786\" fill=\"none\" stroke=\"#000000\"/>\n<polygon fill=\"#000000\" points=\"188.0001,-471.784 184.5,-461.784 181.0001,-471.784 188.0001,-471.784\" stroke=\"#000000\"/>\n</g>\n<!-- 140354207080232 -->\n<g class=\"node\" id=\"node4\">\n<title>140354207080232</title>\n<polygon fill=\"none\" points=\"30,-332.5 30,-378.5 339,-378.5 339,-332.5 30,-332.5\" stroke=\"#000000\"/>\n<text fill=\"#000000\" font-family=\"Times,serif\" font-size=\"14.00\" text-anchor=\"middle\" x=\"97\" y=\"-351.8\">dropout_1: Dropout</text>\n<polyline fill=\"none\" points=\"164,-332.5 164,-378.5 \" stroke=\"#000000\"/>\n<text fill=\"#000000\" font-family=\"Times,serif\" font-size=\"14.00\" text-anchor=\"middle\" x=\"193\" y=\"-363.3\">input:</text>\n<polyline fill=\"none\" points=\"164,-355.5 222,-355.5 \" stroke=\"#000000\"/>\n<text fill=\"#000000\" font-family=\"Times,serif\" font-size=\"14.00\" text-anchor=\"middle\" x=\"193\" y=\"-340.3\">output:</text>\n<polyline fill=\"none\" points=\"222,-332.5 222,-378.5 \" stroke=\"#000000\"/>\n<text fill=\"#000000\" font-family=\"Times,serif\" font-size=\"14.00\" text-anchor=\"middle\" x=\"280.5\" y=\"-363.3\">(None, 100, 512)</text>\n<polyline fill=\"none\" points=\"222,-355.5 339,-355.5 \" stroke=\"#000000\"/>\n<text fill=\"#000000\" font-family=\"Times,serif\" font-size=\"14.00\" text-anchor=\"middle\" x=\"280.5\" y=\"-340.3\">(None, 100, 512)</text>\n</g>\n<!-- 140354191836944&#45;&gt;140354207080232 -->\n<g class=\"edge\" id=\"edge4\">\n<title>140354191836944-&gt;140354207080232</title>\n<path d=\"M184.5,-415.3799C184.5,-407.1745 184.5,-397.7679 184.5,-388.8786\" fill=\"none\" stroke=\"#000000\"/>\n<polygon fill=\"#000000\" points=\"188.0001,-388.784 184.5,-378.784 181.0001,-388.784 188.0001,-388.784\" stroke=\"#000000\"/>\n</g>\n<!-- 140352870158968 -->\n<g class=\"node\" id=\"node5\">\n<title>140352870158968</title>\n<polygon fill=\"none\" points=\"0,-249.5 0,-295.5 369,-295.5 369,-249.5 0,-249.5\" stroke=\"#000000\"/>\n<text fill=\"#000000\" font-family=\"Times,serif\" font-size=\"14.00\" text-anchor=\"middle\" x=\"97\" y=\"-268.8\">cu_dnnlstm_2: CuDNNLSTM</text>\n<polyline fill=\"none\" points=\"194,-249.5 194,-295.5 \" stroke=\"#000000\"/>\n<text fill=\"#000000\" font-family=\"Times,serif\" font-size=\"14.00\" text-anchor=\"middle\" x=\"223\" y=\"-280.3\">input:</text>\n<polyline fill=\"none\" points=\"194,-272.5 252,-272.5 \" stroke=\"#000000\"/>\n<text fill=\"#000000\" font-family=\"Times,serif\" font-size=\"14.00\" text-anchor=\"middle\" x=\"223\" y=\"-257.3\">output:</text>\n<polyline fill=\"none\" points=\"252,-249.5 252,-295.5 \" stroke=\"#000000\"/>\n<text fill=\"#000000\" font-family=\"Times,serif\" font-size=\"14.00\" text-anchor=\"middle\" x=\"310.5\" y=\"-280.3\">(None, 100, 512)</text>\n<polyline fill=\"none\" points=\"252,-272.5 369,-272.5 \" stroke=\"#000000\"/>\n<text fill=\"#000000\" font-family=\"Times,serif\" font-size=\"14.00\" text-anchor=\"middle\" x=\"310.5\" y=\"-257.3\">(None, 512)</text>\n</g>\n<!-- 140354207080232&#45;&gt;140352870158968 -->\n<g class=\"edge\" id=\"edge5\">\n<title>140354207080232-&gt;140352870158968</title>\n<path d=\"M184.5,-332.3799C184.5,-324.1745 184.5,-314.7679 184.5,-305.8786\" fill=\"none\" stroke=\"#000000\"/>\n<polygon fill=\"#000000\" points=\"188.0001,-305.784 184.5,-295.784 181.0001,-305.784 188.0001,-305.784\" stroke=\"#000000\"/>\n</g>\n<!-- 140352870160032 -->\n<g class=\"node\" id=\"node6\">\n<title>140352870160032</title>\n<polygon fill=\"none\" points=\"66,-166.5 66,-212.5 303,-212.5 303,-166.5 66,-166.5\" stroke=\"#000000\"/>\n<text fill=\"#000000\" font-family=\"Times,serif\" font-size=\"14.00\" text-anchor=\"middle\" x=\"112\" y=\"-185.8\">dense: Dense</text>\n<polyline fill=\"none\" points=\"158,-166.5 158,-212.5 \" stroke=\"#000000\"/>\n<text fill=\"#000000\" font-family=\"Times,serif\" font-size=\"14.00\" text-anchor=\"middle\" x=\"187\" y=\"-197.3\">input:</text>\n<polyline fill=\"none\" points=\"158,-189.5 216,-189.5 \" stroke=\"#000000\"/>\n<text fill=\"#000000\" font-family=\"Times,serif\" font-size=\"14.00\" text-anchor=\"middle\" x=\"187\" y=\"-174.3\">output:</text>\n<polyline fill=\"none\" points=\"216,-166.5 216,-212.5 \" stroke=\"#000000\"/>\n<text fill=\"#000000\" font-family=\"Times,serif\" font-size=\"14.00\" text-anchor=\"middle\" x=\"259.5\" y=\"-197.3\">(None, 512)</text>\n<polyline fill=\"none\" points=\"216,-189.5 303,-189.5 \" stroke=\"#000000\"/>\n<text fill=\"#000000\" font-family=\"Times,serif\" font-size=\"14.00\" text-anchor=\"middle\" x=\"259.5\" y=\"-174.3\">(None, 256)</text>\n</g>\n<!-- 140352870158968&#45;&gt;140352870160032 -->\n<g class=\"edge\" id=\"edge6\">\n<title>140352870158968-&gt;140352870160032</title>\n<path d=\"M184.5,-249.3799C184.5,-241.1745 184.5,-231.7679 184.5,-222.8786\" fill=\"none\" stroke=\"#000000\"/>\n<polygon fill=\"#000000\" points=\"188.0001,-222.784 184.5,-212.784 181.0001,-222.784 188.0001,-222.784\" stroke=\"#000000\"/>\n</g>\n<!-- 140352870160928 -->\n<g class=\"node\" id=\"node7\">\n<title>140352870160928</title>\n<polygon fill=\"none\" points=\"45,-83.5 45,-129.5 324,-129.5 324,-83.5 45,-83.5\" stroke=\"#000000\"/>\n<text fill=\"#000000\" font-family=\"Times,serif\" font-size=\"14.00\" text-anchor=\"middle\" x=\"112\" y=\"-102.8\">dropout_2: Dropout</text>\n<polyline fill=\"none\" points=\"179,-83.5 179,-129.5 \" stroke=\"#000000\"/>\n<text fill=\"#000000\" font-family=\"Times,serif\" font-size=\"14.00\" text-anchor=\"middle\" x=\"208\" y=\"-114.3\">input:</text>\n<polyline fill=\"none\" points=\"179,-106.5 237,-106.5 \" stroke=\"#000000\"/>\n<text fill=\"#000000\" font-family=\"Times,serif\" font-size=\"14.00\" text-anchor=\"middle\" x=\"208\" y=\"-91.3\">output:</text>\n<polyline fill=\"none\" points=\"237,-83.5 237,-129.5 \" stroke=\"#000000\"/>\n<text fill=\"#000000\" font-family=\"Times,serif\" font-size=\"14.00\" text-anchor=\"middle\" x=\"280.5\" y=\"-114.3\">(None, 256)</text>\n<polyline fill=\"none\" points=\"237,-106.5 324,-106.5 \" stroke=\"#000000\"/>\n<text fill=\"#000000\" font-family=\"Times,serif\" font-size=\"14.00\" text-anchor=\"middle\" x=\"280.5\" y=\"-91.3\">(None, 256)</text>\n</g>\n<!-- 140352870160032&#45;&gt;140352870160928 -->\n<g class=\"edge\" id=\"edge7\">\n<title>140352870160032-&gt;140352870160928</title>\n<path d=\"M184.5,-166.3799C184.5,-158.1745 184.5,-148.7679 184.5,-139.8786\" fill=\"none\" stroke=\"#000000\"/>\n<polygon fill=\"#000000\" points=\"188.0001,-139.784 184.5,-129.784 181.0001,-139.784 188.0001,-139.784\" stroke=\"#000000\"/>\n</g>\n<!-- 140352870161040 -->\n<g class=\"node\" id=\"node8\">\n<title>140352870161040</title>\n<polygon fill=\"none\" points=\"58.5,-.5 58.5,-46.5 310.5,-46.5 310.5,-.5 58.5,-.5\" stroke=\"#000000\"/>\n<text fill=\"#000000\" font-family=\"Times,serif\" font-size=\"14.00\" text-anchor=\"middle\" x=\"112\" y=\"-19.8\">dense_1: Dense</text>\n<polyline fill=\"none\" points=\"165.5,-.5 165.5,-46.5 \" stroke=\"#000000\"/>\n<text fill=\"#000000\" font-family=\"Times,serif\" font-size=\"14.00\" text-anchor=\"middle\" x=\"194.5\" y=\"-31.3\">input:</text>\n<polyline fill=\"none\" points=\"165.5,-23.5 223.5,-23.5 \" stroke=\"#000000\"/>\n<text fill=\"#000000\" font-family=\"Times,serif\" font-size=\"14.00\" text-anchor=\"middle\" x=\"194.5\" y=\"-8.3\">output:</text>\n<polyline fill=\"none\" points=\"223.5,-.5 223.5,-46.5 \" stroke=\"#000000\"/>\n<text fill=\"#000000\" font-family=\"Times,serif\" font-size=\"14.00\" text-anchor=\"middle\" x=\"267\" y=\"-31.3\">(None, 256)</text>\n<polyline fill=\"none\" points=\"223.5,-23.5 310.5,-23.5 \" stroke=\"#000000\"/>\n<text fill=\"#000000\" font-family=\"Times,serif\" font-size=\"14.00\" text-anchor=\"middle\" x=\"267\" y=\"-8.3\">(None, 482)</text>\n</g>\n<!-- 140352870160928&#45;&gt;140352870161040 -->\n<g class=\"edge\" id=\"edge8\">\n<title>140352870160928-&gt;140352870161040</title>\n<path d=\"M184.5,-83.3799C184.5,-75.1745 184.5,-65.7679 184.5,-56.8786\" fill=\"none\" stroke=\"#000000\"/>\n<polygon fill=\"#000000\" points=\"188.0001,-56.784 184.5,-46.784 181.0001,-56.784 188.0001,-56.784\" stroke=\"#000000\"/>\n</g>\n<!-- 140352870161768 -->\n<g class=\"node\" id=\"node9\">\n<title>140352870161768</title>\n<polygon fill=\"none\" points=\"120,-664.5 120,-700.5 249,-700.5 249,-664.5 120,-664.5\" stroke=\"#000000\"/>\n<text fill=\"#000000\" font-family=\"Times,serif\" font-size=\"14.00\" text-anchor=\"middle\" x=\"184.5\" y=\"-678.8\">140352870161768</text>\n</g>\n<!-- 140352870161768&#45;&gt;140352870496968 -->\n<g class=\"edge\" id=\"edge1\">\n<title>140352870161768-&gt;140352870496968</title>\n<path d=\"M184.5,-664.4092C184.5,-656.4308 184.5,-646.795 184.5,-637.606\" fill=\"none\" stroke=\"#000000\"/>\n<polygon fill=\"#000000\" points=\"188.0001,-637.5333 184.5,-627.5333 181.0001,-637.5334 188.0001,-637.5333\" stroke=\"#000000\"/>\n</g>\n</g>\n</svg>"
          },
          "metadata": {
            "tags": []
          },
          "execution_count": 12
        }
      ]
    },
    {
      "cell_type": "code",
      "metadata": {
        "id": "9cgyKUVD-FfF",
        "colab_type": "code",
        "outputId": "8bd88521-fcf7-4cd1-a005-b4fb0593f27b",
        "colab": {
          "base_uri": "https://localhost:8080/",
          "height": 406
        }
      },
      "source": [
        "checkpoint = ModelCheckpoint(\n",
        "    './gdrive/My Drive/lstm_music_generation/model_checkpoints/improved_weights_{epoch:02d}.hdf5',\n",
        "    monitor = 'loss',\n",
        "    verbose = 1,\n",
        "    save_best_only = True,\n",
        "    mode = 'min'\n",
        ")\n",
        "model.fit(normalized_input, output_sequence, epochs = 200, batch_size = 64, callbacks = [checkpoint])"
      ],
      "execution_count": 0,
      "outputs": [
        {
          "output_type": "stream",
          "text": [
            "Epoch 1/200\n",
            "515648/515657 [============================>.] - ETA: 0s - loss: 4.7646\n",
            "Epoch 00001: loss improved from inf to 4.76457, saving model to ./gdrive/My Drive/lstm_music_generation/model_checkpoints/improved_weights_01.hdf5\n",
            "515657/515657 [==============================] - 680s 1ms/sample - loss: 4.7646\n",
            "Epoch 2/200\n",
            "515648/515657 [============================>.] - ETA: 0s - loss: 4.7595\n",
            "Epoch 00002: loss improved from 4.76457 to 4.75953, saving model to ./gdrive/My Drive/lstm_music_generation/model_checkpoints/improved_weights_02.hdf5\n",
            "515657/515657 [==============================] - 677s 1ms/sample - loss: 4.7595\n",
            "Epoch 3/200\n",
            "515648/515657 [============================>.] - ETA: 0s - loss: 4.7677\n",
            "Epoch 00003: loss did not improve from 4.75953\n",
            "515657/515657 [==============================] - 677s 1ms/sample - loss: 4.7677\n",
            "Epoch 4/200\n",
            "515648/515657 [============================>.] - ETA: 0s - loss: 4.7762\n",
            "Epoch 00004: loss did not improve from 4.75953\n",
            "515657/515657 [==============================] - 681s 1ms/sample - loss: 4.7762\n",
            "Epoch 5/200\n",
            "515648/515657 [============================>.] - ETA: 0s - loss: 4.7395\n",
            "Epoch 00005: loss improved from 4.75953 to 4.73947, saving model to ./gdrive/My Drive/lstm_music_generation/model_checkpoints/improved_weights_05.hdf5\n",
            "515657/515657 [==============================] - 680s 1ms/sample - loss: 4.7395\n",
            "Epoch 6/200\n",
            "154880/515657 [========>.....................] - ETA: 7:55 - loss: 4.6943"
          ],
          "name": "stdout"
        }
      ]
    }
  ]
}