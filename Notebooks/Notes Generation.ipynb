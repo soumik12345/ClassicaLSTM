{
 "cells": [
  {
   "cell_type": "code",
   "execution_count": 1,
   "metadata": {
    "colab": {
     "base_uri": "https://localhost:8080/",
     "height": 443
    },
    "colab_type": "code",
    "id": "-VFe_QU8EEeP",
    "outputId": "dd50a6a4-53a5-4bf9-b0c7-d9ce2fcce3e5"
   },
   "outputs": [
    {
     "name": "stdout",
     "output_type": "stream",
     "text": [
      "Downloading classical-music-midi.zip to /content\n",
      "\r",
      "  0% 0.00/2.24M [00:00<?, ?B/s]\n",
      "\r",
      "100% 2.24M/2.24M [00:00<00:00, 74.7MB/s]\n",
      "Archive:  classical-music-midi.zip\n",
      "  inflating: schubert.zip            \n",
      "  inflating: mozart.zip              \n",
      "  inflating: albeniz.zip             \n",
      "  inflating: mendelssohn.zip         \n",
      "  inflating: grieg.zip               \n",
      "  inflating: debussy.zip             \n",
      "  inflating: chopin.zip              \n",
      "  inflating: muss.zip                \n",
      "  inflating: brahms.zip              \n",
      "  inflating: borodin.zip             \n",
      "  inflating: liszt.zip               \n",
      "  inflating: haydn.zip               \n",
      "  inflating: tschai.zip              \n",
      "  inflating: schumann.zip            \n",
      "  inflating: granados.zip            \n",
      "  inflating: burgm.zip               \n",
      "  inflating: beeth.zip               \n",
      "  inflating: balakir.zip             \n",
      "  inflating: bach.zip                \n",
      "Requirement already satisfied: music21 in /usr/local/lib/python3.6/dist-packages (5.5.0)\n"
     ]
    }
   ],
   "source": [
    "!mkdir kaggle\n",
    "!mkdir ~/.kaggle/\n",
    "import json\n",
    "token = {\"username\":\"kaggleusername\",\"key\":\"key\"}\n",
    "with open('/content/kaggle/kaggle.json', 'w') as file:\n",
    "    json.dump(token, file)\n",
    "!cp /content/kaggle/kaggle.json ~/.kaggle/kaggle.json\n",
    "!chmod 600 /root/.kaggle/kaggle.json\n",
    "!kaggle datasets download -d soumikrakshit/classical-music-midi\n",
    "!unzip classical-music-midi\n",
    "!mkdir dataset\n",
    "!pip install music21"
   ]
  },
  {
   "cell_type": "code",
   "execution_count": 0,
   "metadata": {
    "colab": {},
    "colab_type": "code",
    "collapsed": true,
    "id": "kR0v1SJ5EwlI"
   },
   "outputs": [],
   "source": [
    "import numpy as np\n",
    "from glob import glob\n",
    "from tqdm import tqdm\n",
    "from zipfile import ZipFile\n",
    "from music21 import converter, instrument, note, chord"
   ]
  },
  {
   "cell_type": "code",
   "execution_count": 0,
   "metadata": {
    "colab": {},
    "colab_type": "code",
    "collapsed": true,
    "id": "f1BSDvFFFlT4"
   },
   "outputs": [],
   "source": [
    "for file in glob('./*.zip'):\n",
    "    with ZipFile(file, 'r') as zipObj:\n",
    "        zipObj.extractall('dataset')"
   ]
  },
  {
   "cell_type": "code",
   "execution_count": 4,
   "metadata": {
    "colab": {
     "base_uri": "https://localhost:8080/",
     "height": 34
    },
    "colab_type": "code",
    "id": "IhqWiU4hF_CB",
    "outputId": "ba03219e-ddfc-4183-ee5b-1e1016d00837"
   },
   "outputs": [
    {
     "name": "stderr",
     "output_type": "stream",
     "text": [
      "100%|██████████| 292/292 [37:46<00:00,  5.74s/it]\n"
     ]
    }
   ],
   "source": [
    "notes = []\n",
    "for file in tqdm(glob('./dataset/*.mid')):\n",
    "    midi = converter.parse(file)\n",
    "    notes_to_parse = None\n",
    "    parts = instrument.partitionByInstrument(midi)\n",
    "    if parts: # file has instrument parts\n",
    "        notes_to_parse = parts.parts[0].recurse()\n",
    "    else: # file has notes in a flat structure\n",
    "        notes_to_parse = midi.flat.notes\n",
    "    for element in notes_to_parse:\n",
    "        if isinstance(element, note.Note):\n",
    "            notes.append(str(element.pitch))\n",
    "        elif isinstance(element, chord.Chord):\n",
    "            notes.append('.'.join(str(n) for n in element.normalOrder))"
   ]
  },
  {
   "cell_type": "code",
   "execution_count": 0,
   "metadata": {
    "colab": {},
    "colab_type": "code",
    "collapsed": true,
    "id": "2XRxZmaQpaL3"
   },
   "outputs": [],
   "source": [
    "notes = np.array(notes)"
   ]
  },
  {
   "cell_type": "code",
   "execution_count": 8,
   "metadata": {
    "colab": {
     "base_uri": "https://localhost:8080/",
     "height": 34
    },
    "colab_type": "code",
    "id": "7-JAp-U_2Cek",
    "outputId": "f5064c43-cf76-4804-e851-45729a245f8f"
   },
   "outputs": [
    {
     "data": {
      "text/plain": [
       "array(['C4', '3.8', 'C4', ..., 'B-3', 'G3', 'E-2'], dtype='<U10')"
      ]
     },
     "execution_count": 8,
     "metadata": {
      "tags": []
     },
     "output_type": "execute_result"
    }
   ],
   "source": [
    "notes"
   ]
  },
  {
   "cell_type": "code",
   "execution_count": 0,
   "metadata": {
    "colab": {},
    "colab_type": "code",
    "collapsed": true,
    "id": "Yl5RWchy2UAU"
   },
   "outputs": [],
   "source": [
    "np.save('notes.np', notes)"
   ]
  },
  {
   "cell_type": "code",
   "execution_count": 0,
   "metadata": {
    "colab": {},
    "colab_type": "code",
    "collapsed": true,
    "id": "WnoVCPpH2da8"
   },
   "outputs": [],
   "source": []
  }
 ],
 "metadata": {
  "colab": {
   "collapsed_sections": [],
   "name": "Music Generation Using LSTM.ipynb",
   "provenance": [],
   "version": "0.3.2"
  },
  "kernelspec": {
   "display_name": "Python 3",
   "language": "python",
   "name": "python3"
  },
  "language_info": {
   "codemirror_mode": {
    "name": "ipython",
    "version": 3
   },
   "file_extension": ".py",
   "mimetype": "text/x-python",
   "name": "python",
   "nbconvert_exporter": "python",
   "pygments_lexer": "ipython3",
   "version": "3.6.3"
  }
 },
 "nbformat": 4,
 "nbformat_minor": 1
}
